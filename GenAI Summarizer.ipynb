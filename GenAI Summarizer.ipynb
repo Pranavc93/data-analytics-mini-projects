{
 "cells": [
  {
   "cell_type": "code",
   "execution_count": 10,
   "id": "f20ae41d",
   "metadata": {},
   "outputs": [
    {
     "name": "stdout",
     "output_type": "stream",
     "text": [
      "[{'summary_text': 'i keep facing crashes on the login screen and sometimes it freezes after entering my password '}]\n"
     ]
    }
   ],
   "source": [
    "from transformers import pipeline\n",
    "\n",
    "summarizer = pipeline(\"summarization\", model=\"t5-base\")\n",
    "feedback = \"\"\"The new mobile app update looks great and the interface is much smoother. \n",
    "However, I keep facing crashes on the login screen and sometimes it freezes \n",
    "after entering my password. It’s frustrating, though overall performance seems improved.\"\"\"\n",
    "\n",
    "summary = summarizer(feedback, max_length = 20, min_length = 5, do_sample = False)\n",
    "\n",
    "print(summary)"
   ]
  },
  {
   "cell_type": "code",
   "execution_count": 11,
   "id": "bc19f5ff",
   "metadata": {},
   "outputs": [],
   "source": [
    "import os"
   ]
  },
  {
   "cell_type": "code",
   "execution_count": 12,
   "id": "4674be2e",
   "metadata": {},
   "outputs": [
    {
     "data": {
      "text/plain": [
       "'C:\\\\Users\\\\Pranav'"
      ]
     },
     "execution_count": 12,
     "metadata": {},
     "output_type": "execute_result"
    }
   ],
   "source": [
    "os.getcwd()"
   ]
  },
  {
   "cell_type": "code",
   "execution_count": 13,
   "id": "652adf08",
   "metadata": {},
   "outputs": [],
   "source": [
    "os.chdir(\"C:/Users/Pranav/OneDrive/Desktop/LinkedIn Resume/LinkedIn Content Creation\")"
   ]
  },
  {
   "cell_type": "code",
   "execution_count": null,
   "id": "ea6f4822",
   "metadata": {},
   "outputs": [],
   "source": []
  }
 ],
 "metadata": {
  "kernelspec": {
   "display_name": "Python 3 (ipykernel)",
   "language": "python",
   "name": "python3"
  },
  "language_info": {
   "codemirror_mode": {
    "name": "ipython",
    "version": 3
   },
   "file_extension": ".py",
   "mimetype": "text/x-python",
   "name": "python",
   "nbconvert_exporter": "python",
   "pygments_lexer": "ipython3",
   "version": "3.10.9"
  }
 },
 "nbformat": 4,
 "nbformat_minor": 5
}
