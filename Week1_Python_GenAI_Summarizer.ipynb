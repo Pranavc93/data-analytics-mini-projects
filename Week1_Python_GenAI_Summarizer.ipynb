{
 "cells": [
  {
   "cell_type": "markdown",
   "id": "fbf7df81",
   "metadata": {},
   "source": [
    "# 📝 Week 1 Mini Project: Text Summarization with Python (GenAI for Analysts)\n",
    "This notebook demonstrates how analysts can use **GenAI** to summarize long text data, such as customer feedback, into short and actionable insights."
   ]
  },
  {
   "cell_type": "markdown",
   "id": "10f630cd",
   "metadata": {},
   "source": [
    "## Step 1: Load the data"
   ]
  },
  {
   "cell_type": "code",
   "execution_count": null,
   "id": "87cf2708",
   "metadata": {},
   "outputs": [],
   "source": [
    "import pandas as pd\n",
    "\n",
    "# Load dataset\n",
    "df = pd.read_csv('feedback.csv')\n",
    "df.head()"
   ]
  },
  {
   "cell_type": "markdown",
   "id": "e0bad189",
   "metadata": {},
   "source": [
    "## Step 2: Initialize Summarization Model"
   ]
  },
  {
   "cell_type": "code",
   "execution_count": null,
   "id": "ba3f6e80",
   "metadata": {},
   "outputs": [],
   "source": [
    "from transformers import pipeline\n",
    "\n",
    "# Load a pre-trained summarizer\n",
    "summarizer = pipeline('summarization', model='facebook/bart-large-cnn')"
   ]
  },
  {
   "cell_type": "markdown",
   "id": "fce50375",
   "metadata": {},
   "source": [
    "## Step 3: Apply summarization to each feedback"
   ]
  },
  {
   "cell_type": "code",
   "execution_count": null,
   "id": "ca3eab62",
   "metadata": {},
   "outputs": [],
   "source": [
    "def get_summary(text):\n",
    "    summary = summarizer(text, max_length=25, min_length=5, do_sample=False)\n",
    "    return summary[0]['summary_text']\n",
    "\n",
    "df['summary'] = df['feedback'].apply(get_summary)\n",
    "df"
   ]
  }
 ],
 "metadata": {},
 "nbformat": 4,
 "nbformat_minor": 5
}
